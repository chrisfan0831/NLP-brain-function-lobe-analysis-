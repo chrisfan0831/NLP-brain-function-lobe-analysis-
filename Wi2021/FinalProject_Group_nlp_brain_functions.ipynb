{
  "cells": [
    {
      "cell_type": "markdown",
      "source": [
        "# UC San Diego: Neural Data Science\n",
        "## Project Title: NLP to Discover Relationships Between Brain Functions and Brain Lobes"
      ],
      "metadata": {
        "id": "ET9eXdtcm2eQ"
      },
      "id": "ET9eXdtcm2eQ"
    },
    {
      "cell_type": "markdown",
      "source": [
        "## Permissions\n",
        "\n",
        "Place an `X` in the appropriate bracket below to specify if you would like your group's project to be made available to the public. (Note that student names will be included (but PIDs will be scraped from any groups who include their PIDs).\n",
        "\n",
        "* [X] YES - make available\n",
        "* [  ] NO - keep private"
      ],
      "metadata": {
        "id": "RSo1koFEo87s"
      },
      "id": "RSo1koFEo87s"
    },
    {
      "cell_type": "markdown",
      "source": [
        "# Names\n",
        "\n",
        "- Mingze Xu\n",
        "- Sizhe Fan\n",
        "- Nihal Suppala"
      ],
      "metadata": {
        "id": "bjX3rODGpAn6"
      },
      "id": "bjX3rODGpAn6"
    },
    {
      "cell_type": "markdown",
      "source": [
        "# Overview"
      ],
      "metadata": {
        "id": "jtGoiWw0YcpS"
      },
      "id": "jtGoiWw0YcpS"
    },
    {
      "cell_type": "markdown",
      "source": [
        "We used LISC to collect published literature that did research about various brain functions from Pubmed. We then checked if any of these brain functions were correlated to any of four lobes in the scanned literature. We conducted NLP to cluster these brain functions into groups that had a similar amount of mention in the literature of each of the four lobes. This was done in order to reveal connections between these brain functions, and how the area that these processes are performed in the brain may determine their relationships.\n"
      ],
      "metadata": {
        "id": "MWUeG7CJnXz-"
      },
      "id": "MWUeG7CJnXz-"
    },
    {
      "cell_type": "markdown",
      "source": [
        "# Research Question\n",
        " - How do four lobes of the brain share responsibility for various brain functions, and how does this relationship influence the interconnection of these functions?"
      ],
      "metadata": {
        "id": "zF48VE3YYUwU"
      },
      "id": "zF48VE3YYUwU"
    },
    {
      "cell_type": "markdown",
      "source": [
        "# Background & Prior Work"
      ],
      "metadata": {
        "id": "9iHEzOreYgAe"
      },
      "id": "9iHEzOreYgAe"
    },
    {
      "cell_type": "markdown",
      "source": [
        "Within the Cognitive Science major, we have taken many neuroscience courses, and we learned the distinct functions and features of the four lobes in the human brain. For example, we have learned that the frontal lobe is mainly responsible for higher cognitive functions as stated in the article Introspection, attention or awareness? The role of the frontal lobe in binocular rivalry, “in the mechanisms of conscious vision might involve typical higher-level frontal lobe functions such as attention, motivation and decision-making. [1]” On the other hand, there is evidence showing that the parietal lobe is also involved in attention. In other words, regarding attention, both the frontal lobe and the parietal lobe play an important role, and that is something we did not acquire from the neuroscience courses. It has been known that even though many brain functions are highly connected with one lobe, brain functions actually occur in the entirety of the brain [2]. \n",
        "\n",
        "With the advent of many new computer-based methods and machine learning processes, there is a very large amount of prior research and literature that can be scrubbed through, at a very fast pace, to allow for further scientific progress and understanding. Text mining is one of these methods that rapidly create different ideas. Rajman, Martin and Besancon have researched how text mining can reveal hypotheses that would not be so obvious in the lifecycle of a traditional scientific experiment [3]. We will use a dataset consisting of a large amount of various brain functions, though we plan to use 100 of them, that are associated with different parts of the brain. With use of text mining, of research literature on Pubmed, and other useful methods, like natural language processing and clustering, we can reveal connections between brain functions and how the four lobes of the brain are interconnected with these processes.\n",
        "\n",
        "\n",
        "[1] Zaretskaya N and Narinyan M (2014) Introspection, attention or awareness? The role of the frontal lobe in binocular rivalry. Front. Hum. Neurosci. 8:527. doi: 10.3389/fnhum.2014.00527\n",
        "\n",
        "[2] Rosenberg, Monica D., et al. \"A neuromarker of sustained attention from whole-brain functional connectivity.\" Nature neuroscience 19.1 (2016): 165-171.\n",
        "\n",
        "[3] Rajman, Martin, and Romaric Besançon. \"Text mining: natural language techniques and text mining applications.\" Data mining and reverse engineering. Springer, Boston, MA, 1998. 50-64."
      ],
      "metadata": {
        "id": "Ggs7jn2kpObZ"
      },
      "id": "Ggs7jn2kpObZ"
    },
    {
      "cell_type": "markdown",
      "source": [
        "# Hypothesis"
      ],
      "metadata": {
        "id": "-L25iHmiYiGx"
      },
      "id": "-L25iHmiYiGx"
    },
    {
      "cell_type": "markdown",
      "source": [
        "- Each brain function is carried out in each of the four lobes of the brain, and similarities of responsibility of the lobes they centered in lead to the interconnection of multiple brain functions.\n",
        "- In Rosenberg's research, she states that even though brain functions may be highly correlated to some parts of the brain, they are carried out throughout the brain. Our hypothesis is influenced by this argument."
      ],
      "metadata": {
        "id": "Dpyy-zMJp4Kk"
      },
      "id": "Dpyy-zMJp4Kk"
    },
    {
      "cell_type": "markdown",
      "source": [
        "# Datasets"
      ],
      "metadata": {
        "id": "h8TcHltTpGG5"
      },
      "id": "h8TcHltTpGG5"
    },
    {
      "cell_type": "markdown",
      "source": [
        "\n",
        "- **Dataset Name:** Pubmed\n",
        "- Link to the dataset: https://pubmed.ncbi.nlm.nih.gov/\n",
        "- Number of observations: may variate during analysis\n",
        "- Description: All the articles of the terms are from the webiste Pubmed, and there are millions of articles on the webiste. We are only using part of the articles, so the number of observation varies depending on our need.\n",
        "\n",
        "- **Dataset Name:** neural_function_terms.csv (From Professor Bardley Voytek)\n",
        "- Link to the dataset: https://drive.google.com/file/d/12_916Cggh68P9Bxq_vzT0HXjC8aH0XMX/view?usp=sharing\n",
        "- Number of observations: 373 functinal terms out of 1299 in total (may include duplications)\n",
        "- Description: long list of neural-related terms (funtional, chemical, etc)\n",
        "\n",
        "- **Dataset Name:** terms.txt\n",
        "- Link to the dataset: https://drive.google.com/file/d/1TAHCuB_r5PdAwfoaSg71Qp7zhvJ0TAwn/view?usp=sharing\n",
        "- Number of observations: 26 terms\n",
        "- Description: all terms that have 300+ related articles\n",
        "\n",
        "- **Dataset Name:** term_text_small.csv\n",
        "- Link to the dataset: https://drive.google.com/file/d/1--mleq5P2gXblO43deidRnfLWk3QZDIk/view?usp=sharing\n",
        "- Number of observations: 26\n",
        "- Description: each term and its related abstract text\n",
        "\n",
        "- **Dataset Name:** term_text_large.csv\n",
        "- Link to the dataset: https://drive.google.com/file/d/10EOvULF2dQ0CEm9XxVaJkKfwAqnvCxMW/view?usp=sharing\n",
        "- Number of observations: 276\n",
        "- Description: each term and its related abstract text"
      ],
      "metadata": {
        "id": "9xbhYLv7pI76"
      },
      "id": "9xbhYLv7pI76"
    },
    {
      "cell_type": "markdown",
      "source": [
        "# Setup"
      ],
      "metadata": {
        "id": "l2e2PQqGps9p"
      },
      "id": "l2e2PQqGps9p"
    },
    {
      "cell_type": "code",
      "source": [
        "# !pip install lisc\n",
        "# !pip install kneed"
      ],
      "metadata": {
        "id": "u7r8utNf3zcE"
      },
      "id": "u7r8utNf3zcE",
      "execution_count": null,
      "outputs": []
    },
    {
      "cell_type": "code",
      "source": [
        "import nltk\n",
        "from nltk.corpus import stopwords\n",
        "from nltk.stem import WordNetLemmatizer\n",
        "nltk.download('stopwords')\n",
        "nltk.download('wordnet')\n",
        "import string\n",
        "from sklearn.feature_extraction.text import TfidfVectorizer\n",
        "from sklearn.cluster import KMeans\n",
        "from kneed import KneeLocator\n",
        "import matplotlib.pyplot as plt\n",
        "import random\n",
        "import pandas as pd\n",
        "import urllib.request\n",
        "from lisc.collect import collect_words"
      ],
      "metadata": {
        "id": "qGegrSCtpvZm",
        "colab": {
          "base_uri": "https://localhost:8080/"
        },
        "outputId": "e035e566-f387-460b-ad07-021f22739e11"
      },
      "id": "qGegrSCtpvZm",
      "execution_count": null,
      "outputs": [
        {
          "output_type": "stream",
          "name": "stdout",
          "text": [
            "[nltk_data] Downloading package stopwords to /root/nltk_data...\n",
            "[nltk_data]   Package stopwords is already up-to-date!\n",
            "[nltk_data] Downloading package wordnet to /root/nltk_data...\n",
            "[nltk_data]   Package wordnet is already up-to-date!\n"
          ]
        }
      ]
    },
    {
      "cell_type": "code",
      "source": [
        "from google.colab import drive\n",
        "drive.mount('/content/drive')"
      ],
      "metadata": {
        "colab": {
          "base_uri": "https://localhost:8080/"
        },
        "id": "oY_AO97dFEay",
        "outputId": "cb185af3-fdf8-452b-f7a8-5da5a1adffba"
      },
      "id": "oY_AO97dFEay",
      "execution_count": null,
      "outputs": [
        {
          "output_type": "stream",
          "name": "stdout",
          "text": [
            "Mounted at /content/drive\n"
          ]
        }
      ]
    },
    {
      "cell_type": "markdown",
      "source": [
        "# Data Wrangling "
      ],
      "metadata": {
        "id": "JCoajgfSqRz1"
      },
      "id": "JCoajgfSqRz1"
    },
    {
      "cell_type": "markdown",
      "source": [
        "## Extract functional terms \n",
        "Extract all terms that are labeled as \"function\" in the csv file"
      ],
      "metadata": {
        "id": "Xoy6OhHz1ojc"
      },
      "id": "Xoy6OhHz1ojc"
    },
    {
      "cell_type": "code",
      "execution_count": null,
      "id": "22df7ea5",
      "metadata": {
        "id": "22df7ea5",
        "colab": {
          "base_uri": "https://localhost:8080/",
          "height": 206
        },
        "outputId": "16099787-81a8-44d0-eb2e-1ffef397c49d"
      },
      "outputs": [
        {
          "output_type": "execute_result",
          "data": {
            "text/plain": [
              "                  term\n",
              "0    abstract thinking\n",
              "1  acoustic processing\n",
              "2     action imitation\n",
              "3    action initiation\n",
              "4    action monitoring"
            ],
            "text/html": [
              "\n",
              "  <div id=\"df-b89a7ff9-8a1b-44cc-833d-757260fd9da5\">\n",
              "    <div class=\"colab-df-container\">\n",
              "      <div>\n",
              "<style scoped>\n",
              "    .dataframe tbody tr th:only-of-type {\n",
              "        vertical-align: middle;\n",
              "    }\n",
              "\n",
              "    .dataframe tbody tr th {\n",
              "        vertical-align: top;\n",
              "    }\n",
              "\n",
              "    .dataframe thead th {\n",
              "        text-align: right;\n",
              "    }\n",
              "</style>\n",
              "<table border=\"1\" class=\"dataframe\">\n",
              "  <thead>\n",
              "    <tr style=\"text-align: right;\">\n",
              "      <th></th>\n",
              "      <th>term</th>\n",
              "    </tr>\n",
              "  </thead>\n",
              "  <tbody>\n",
              "    <tr>\n",
              "      <th>0</th>\n",
              "      <td>abstract thinking</td>\n",
              "    </tr>\n",
              "    <tr>\n",
              "      <th>1</th>\n",
              "      <td>acoustic processing</td>\n",
              "    </tr>\n",
              "    <tr>\n",
              "      <th>2</th>\n",
              "      <td>action imitation</td>\n",
              "    </tr>\n",
              "    <tr>\n",
              "      <th>3</th>\n",
              "      <td>action initiation</td>\n",
              "    </tr>\n",
              "    <tr>\n",
              "      <th>4</th>\n",
              "      <td>action monitoring</td>\n",
              "    </tr>\n",
              "  </tbody>\n",
              "</table>\n",
              "</div>\n",
              "      <button class=\"colab-df-convert\" onclick=\"convertToInteractive('df-b89a7ff9-8a1b-44cc-833d-757260fd9da5')\"\n",
              "              title=\"Convert this dataframe to an interactive table.\"\n",
              "              style=\"display:none;\">\n",
              "        \n",
              "  <svg xmlns=\"http://www.w3.org/2000/svg\" height=\"24px\"viewBox=\"0 0 24 24\"\n",
              "       width=\"24px\">\n",
              "    <path d=\"M0 0h24v24H0V0z\" fill=\"none\"/>\n",
              "    <path d=\"M18.56 5.44l.94 2.06.94-2.06 2.06-.94-2.06-.94-.94-2.06-.94 2.06-2.06.94zm-11 1L8.5 8.5l.94-2.06 2.06-.94-2.06-.94L8.5 2.5l-.94 2.06-2.06.94zm10 10l.94 2.06.94-2.06 2.06-.94-2.06-.94-.94-2.06-.94 2.06-2.06.94z\"/><path d=\"M17.41 7.96l-1.37-1.37c-.4-.4-.92-.59-1.43-.59-.52 0-1.04.2-1.43.59L10.3 9.45l-7.72 7.72c-.78.78-.78 2.05 0 2.83L4 21.41c.39.39.9.59 1.41.59.51 0 1.02-.2 1.41-.59l7.78-7.78 2.81-2.81c.8-.78.8-2.07 0-2.86zM5.41 20L4 18.59l7.72-7.72 1.47 1.35L5.41 20z\"/>\n",
              "  </svg>\n",
              "      </button>\n",
              "      \n",
              "  <style>\n",
              "    .colab-df-container {\n",
              "      display:flex;\n",
              "      flex-wrap:wrap;\n",
              "      gap: 12px;\n",
              "    }\n",
              "\n",
              "    .colab-df-convert {\n",
              "      background-color: #E8F0FE;\n",
              "      border: none;\n",
              "      border-radius: 50%;\n",
              "      cursor: pointer;\n",
              "      display: none;\n",
              "      fill: #1967D2;\n",
              "      height: 32px;\n",
              "      padding: 0 0 0 0;\n",
              "      width: 32px;\n",
              "    }\n",
              "\n",
              "    .colab-df-convert:hover {\n",
              "      background-color: #E2EBFA;\n",
              "      box-shadow: 0px 1px 2px rgba(60, 64, 67, 0.3), 0px 1px 3px 1px rgba(60, 64, 67, 0.15);\n",
              "      fill: #174EA6;\n",
              "    }\n",
              "\n",
              "    [theme=dark] .colab-df-convert {\n",
              "      background-color: #3B4455;\n",
              "      fill: #D2E3FC;\n",
              "    }\n",
              "\n",
              "    [theme=dark] .colab-df-convert:hover {\n",
              "      background-color: #434B5C;\n",
              "      box-shadow: 0px 1px 3px 1px rgba(0, 0, 0, 0.15);\n",
              "      filter: drop-shadow(0px 1px 2px rgba(0, 0, 0, 0.3));\n",
              "      fill: #FFFFFF;\n",
              "    }\n",
              "  </style>\n",
              "\n",
              "      <script>\n",
              "        const buttonEl =\n",
              "          document.querySelector('#df-b89a7ff9-8a1b-44cc-833d-757260fd9da5 button.colab-df-convert');\n",
              "        buttonEl.style.display =\n",
              "          google.colab.kernel.accessAllowed ? 'block' : 'none';\n",
              "\n",
              "        async function convertToInteractive(key) {\n",
              "          const element = document.querySelector('#df-b89a7ff9-8a1b-44cc-833d-757260fd9da5');\n",
              "          const dataTable =\n",
              "            await google.colab.kernel.invokeFunction('convertToInteractive',\n",
              "                                                     [key], {});\n",
              "          if (!dataTable) return;\n",
              "\n",
              "          const docLinkHtml = 'Like what you see? Visit the ' +\n",
              "            '<a target=\"_blank\" href=https://colab.research.google.com/notebooks/data_table.ipynb>data table notebook</a>'\n",
              "            + ' to learn more about interactive tables.';\n",
              "          element.innerHTML = '';\n",
              "          dataTable['output_type'] = 'display_data';\n",
              "          await google.colab.output.renderOutput(dataTable, element);\n",
              "          const docLink = document.createElement('div');\n",
              "          docLink.innerHTML = docLinkHtml;\n",
              "          element.appendChild(docLink);\n",
              "        }\n",
              "      </script>\n",
              "    </div>\n",
              "  </div>\n",
              "  "
            ]
          },
          "metadata": {},
          "execution_count": 28
        }
      ],
      "source": [
        "data = pd.read_csv('/content/drive/MyDrive/datasets/cogs138-function-lobe-relation/neural_function_terms.csv', header=None).drop([1, 2], axis=1)\n",
        "data = data[data[3]=='function'].drop([3], axis=1)\n",
        "data.columns = ['term']\n",
        "data.head()"
      ]
    },
    {
      "cell_type": "code",
      "source": [
        "all_terms = list(data['term'])\n",
        "all_terms = [[i] for i in all_terms]\n",
        "len(all_terms)"
      ],
      "metadata": {
        "colab": {
          "base_uri": "https://localhost:8080/"
        },
        "id": "lPTMdgTDudK5",
        "outputId": "3ca7f86a-fb7e-4ed5-ebf6-4f97edfd23d8"
      },
      "id": "lPTMdgTDudK5",
      "execution_count": null,
      "outputs": [
        {
          "output_type": "execute_result",
          "data": {
            "text/plain": [
              "373"
            ]
          },
          "metadata": {},
          "execution_count": 29
        }
      ]
    },
    {
      "cell_type": "markdown",
      "source": [
        "# Data Cleaning"
      ],
      "metadata": {
        "id": "4dJmWbO9rgCe"
      },
      "id": "4dJmWbO9rgCe"
    },
    {
      "cell_type": "markdown",
      "source": [
        "## Extract small term-set\n",
        "Extract valid terms that have 300+ related articles so that there will be enough information for analysing"
      ],
      "metadata": {
        "id": "KTs6qxhoztiO"
      },
      "id": "KTs6qxhoztiO"
    },
    {
      "cell_type": "code",
      "execution_count": null,
      "id": "2cba9b26",
      "metadata": {
        "id": "2cba9b26",
        "colab": {
          "base_uri": "https://localhost:8080/"
        },
        "outputId": "994e2302-d6de-4b86-f32e-87026b06b4e1"
      },
      "outputs": [
        {
          "output_type": "stream",
          "name": "stdout",
          "text": [
            "Number of articles about ['affect perception']: 337\n",
            "Number of articles about ['analogical reasoning']: 314\n",
            "Number of articles about ['attentional capacity']: 406\n",
            "Number of articles about ['auditory localization']: 346\n",
            "Number of articles about ['auditory working memory']: 325\n",
            "Number of articles about ['backward digit span']: 326\n",
            "Number of articles about ['concept learning']: 347\n",
            "Number of articles about ['deductive reasoning']: 453\n",
            "Number of articles about ['emotional perception']: 364\n",
            "Number of articles about ['emotional perception']: 364\n",
            "Number of articles about ['emotional perception']: 364\n",
            "Number of articles about ['emotional recognition']: 344\n",
            "Number of articles about ['explicit learning']: 419\n",
            "Number of articles about ['implicit knowledge']: 366\n",
            "Number of articles about ['kinesthesia']: 362\n",
            "Number of articles about ['logical reasoning']: 453\n",
            "Number of articles about ['loss aversion']: 429\n",
            "Number of articles about ['motor sequence learning']: 436\n",
            "Number of articles about ['novelty detection']: 450\n",
            "Number of articles about ['phonological loop']: 366\n",
            "Number of articles about ['procedural knowledge']: 393\n",
            "Number of articles about ['risk seeking']: 381\n",
            "Number of articles about ['sentence production']: 425\n",
            "Number of articles about ['target processing']: 368\n",
            "Number of articles about ['top down processing']: 449\n",
            "Number of articles about ['traumatic memory']: 306\n",
            "Number of articles about ['visual masking']: 408\n",
            "Number of articles about ['word comprehension']: 432\n"
          ]
        }
      ],
      "source": [
        "# find all terms that has 300+ related articles\n",
        "# valid_terms = []\n",
        "# for term in all_terms:\n",
        "#   results, meta_data = collect_words([term], field='tiab', retmax=500, verbose=False)\n",
        "#   if len(results[0]) >= 300:\n",
        "#     valid_terms.append(term)\n",
        "#     print(f\"Number of articles about {term}: {len(results[0])}\")"
      ]
    },
    {
      "cell_type": "code",
      "source": [
        "# save the terms into terms.txt\n",
        "# with open('/content/drive/MyDrive/datasets/terms.txt', 'w') as f:\n",
        "#   for term in valid_terms:\n",
        "#     f.write(term[0])\n",
        "#     f.write('\\n')"
      ],
      "metadata": {
        "id": "n7XLZpGkmosV"
      },
      "id": "n7XLZpGkmosV",
      "execution_count": null,
      "outputs": []
    },
    {
      "cell_type": "code",
      "source": [
        "# read all the valid terms into a list\n",
        "fterms = open('/content/drive/MyDrive/datasets/cogs138-function-lobe-relation/terms.txt', 'r')\n",
        "valid_terms = fterms.read().split('\\n')\n",
        "fterms.close()\n",
        "valid_terms = valid_terms[0:len(valid_terms)-1]\n",
        "unique = []\n",
        "[unique.append(term) for term in valid_terms if term not in unique]\n",
        "valid_terms = unique\n",
        "valid_terms"
      ],
      "metadata": {
        "colab": {
          "base_uri": "https://localhost:8080/"
        },
        "id": "WSEx3P1y4wO6",
        "outputId": "2c401a1a-b035-4777-83a5-1e4935673058"
      },
      "id": "WSEx3P1y4wO6",
      "execution_count": null,
      "outputs": [
        {
          "output_type": "execute_result",
          "data": {
            "text/plain": [
              "['affect perception',\n",
              " 'analogical reasoning',\n",
              " 'attentional capacity',\n",
              " 'auditory localization',\n",
              " 'auditory working memory',\n",
              " 'backward digit span',\n",
              " 'concept learning',\n",
              " 'deductive reasoning',\n",
              " 'emotional perception',\n",
              " 'emotional recognition',\n",
              " 'explicit learning',\n",
              " 'implicit knowledge',\n",
              " 'kinesthesia',\n",
              " 'logical reasoning',\n",
              " 'loss aversion',\n",
              " 'motor sequence learning',\n",
              " 'novelty detection',\n",
              " 'phonological loop',\n",
              " 'procedural knowledge',\n",
              " 'risk seeking',\n",
              " 'sentence production',\n",
              " 'target processing',\n",
              " 'top down processing',\n",
              " 'traumatic memory',\n",
              " 'visual masking',\n",
              " 'word comprehension']"
            ]
          },
          "metadata": {},
          "execution_count": 30
        }
      ]
    },
    {
      "cell_type": "code",
      "source": [
        "print(f\"There are {len(valid_terms)} terms that have 300+ related articles\")"
      ],
      "metadata": {
        "colab": {
          "base_uri": "https://localhost:8080/"
        },
        "id": "OwrVp_2cILd4",
        "outputId": "aa9e0c3e-e736-4d3d-b38e-51f36cbcb43a"
      },
      "id": "OwrVp_2cILd4",
      "execution_count": null,
      "outputs": [
        {
          "output_type": "stream",
          "name": "stdout",
          "text": [
            "There are 26 terms that have 300+ related articles\n"
          ]
        }
      ]
    },
    {
      "cell_type": "markdown",
      "source": [
        "# Data Analysis & Results"
      ],
      "metadata": {
        "id": "Jszboah9sl8U"
      },
      "id": "Jszboah9sl8U"
    },
    {
      "cell_type": "markdown",
      "source": [
        "## Term-lobes relation analysis\n",
        "We analyse the relationship between term and lobes by counting the number of occurances of each lobe in the term-related articles' keywords and abstracts (found by LISC). Than each lobe's correlation coeeficient with the term is computed as percentage of occurance."
      ],
      "metadata": {
        "id": "-GR4ZgeH0EBA"
      },
      "id": "-GR4ZgeH0EBA"
    },
    {
      "cell_type": "markdown",
      "source": [
        "### Count lobe occuranace\n",
        "Develop an example of finding the occurance of each lobe in keywords and abstracts that related to the first term"
      ],
      "metadata": {
        "id": "tlH3A7Wi2GIH"
      },
      "id": "tlH3A7Wi2GIH"
    },
    {
      "cell_type": "code",
      "source": [
        "results, meta_data = collect_words([[valid_terms[0]]], field='tiab', retmax=500)\n",
        "article_keywords = results[0].keywords\n",
        "article_words = results[0].words\n",
        "four_lobes = ['frontal', 'parietal', 'temporal', 'occipital']\n",
        "# count the occurance of each lobe\n",
        "words_lobe_count = {'frontal':0, 'parietal':0, 'temporal':0, 'occipital':0} \n",
        "for words in article_words: # for words in each article's abstract\n",
        "  for lobe in four_lobes: # for each lobe\n",
        "    if lobe in ''.join(words).lower(): # check if words relate to any lobe\n",
        "      words_lobe_count[lobe] += 1\n",
        "print(f\"Among all abstracts about '{valid_terms[0]}':\")\n",
        "for lobe in four_lobes:\n",
        "  print(f\"'{lobe}' is mentioned {words_lobe_count[lobe]} times\")\n",
        "keywords_lobe_count = {'frontal':0, 'parietal':0, 'temporal':0, 'occipital':0} \n",
        "for keywords in article_keywords: # for words in each article's abstract\n",
        "  for lobe in four_lobes: # for each lobe\n",
        "    if lobe in ''.join(keywords).lower(): # check if words relate to any lobe\n",
        "      keywords_lobe_count[lobe] += 1\n",
        "print(f\"\\nAmong all keywords about '{valid_terms[0]}':\")\n",
        "for lobe in four_lobes:\n",
        "  print(f\"'{lobe}' is mentioned {keywords_lobe_count[lobe]} times\")"
      ],
      "metadata": {
        "colab": {
          "base_uri": "https://localhost:8080/"
        },
        "id": "d0g0gDmIOIvu",
        "outputId": "ea956bd0-b3f0-4376-ca6d-4a9e554ecfc3"
      },
      "id": "d0g0gDmIOIvu",
      "execution_count": null,
      "outputs": [
        {
          "output_type": "stream",
          "name": "stdout",
          "text": [
            "Among all abstracts about 'affect perception':\n",
            "'frontal' is mentioned 12 times\n",
            "'parietal' is mentioned 4 times\n",
            "'temporal' is mentioned 26 times\n",
            "'occipital' is mentioned 3 times\n",
            "\n",
            "Among all keywords about 'affect perception':\n",
            "'frontal' is mentioned 2 times\n",
            "'parietal' is mentioned 1 times\n",
            "'temporal' is mentioned 3 times\n",
            "'occipital' is mentioned 0 times\n"
          ]
        }
      ]
    },
    {
      "cell_type": "markdown",
      "source": [
        "### Compute term-lobes correlations\n",
        "Integrate occurance-count and percentage-computation into a function. Then iterate through the 26 terms that have 300+ related articles, and compute each of them's correlation with 4 lobes of brain."
      ],
      "metadata": {
        "id": "vZH8Z89M2Khx"
      },
      "id": "vZH8Z89M2Khx"
    },
    {
      "cell_type": "code",
      "source": [
        "def compute_correlation(term):\n",
        "  \"\"\"\n",
        "  Compute correlation between the term and each of the four lobes in the brain\n",
        "  Input: a brain function term\n",
        "  Return: four coefficients represent the relationship between the functional term and four lobes\n",
        "  \"\"\"\n",
        "  results, meta_data = collect_words([[term]], field='tiab', retmax=500)\n",
        "  article_words = results[0].words\n",
        "  article_keywords = results[0].keywords\n",
        "  four_lobes = ['frontal', 'parietal', 'temporal', 'occipital']\n",
        "  # count the occurance of each lobe\n",
        "  lobe_count = {'frontal':0, 'parietal':0, 'temporal':0, 'occipital':0} \n",
        "  for words in article_words: # for words in abstract of each article\n",
        "    for lobe in four_lobes: # for each lobe\n",
        "      if lobe in ''.join(words).lower(): # check if words relate to any lobe\n",
        "        lobe_count[lobe] += 1\n",
        "  for keywords in article_keywords: # for words in abstract of each article\n",
        "    for lobe in four_lobes: # for each lobe\n",
        "      if lobe in ''.join(keywords).lower(): # check if words relate to any lobe\n",
        "        lobe_count[lobe] += 1\n",
        "  # find total number of occurance of all the lobes\n",
        "  sum = 0\n",
        "  for lobe in four_lobes:\n",
        "    sum += lobe_count[lobe]\n",
        "  # calculate the weight of each lobe with respect to the total number\n",
        "  lobe_rel_coef = {}\n",
        "  for lobe, count in lobe_count.items():\n",
        "    lobe_rel_coef[lobe] = round(count/sum, 3)\n",
        "  return lobe_rel_coef['frontal'], lobe_rel_coef['parietal'], lobe_rel_coef['temporal'], lobe_rel_coef['occipital']"
      ],
      "metadata": {
        "id": "mWb7FvajJ1Y5"
      },
      "id": "mWb7FvajJ1Y5",
      "execution_count": null,
      "outputs": []
    },
    {
      "cell_type": "code",
      "source": [
        "# test the function on term 'action monitoring'\n",
        "coefs = compute_correlation('action monitoring')\n",
        "print(f\"frontal lobe: {coefs[0]}, parietal lobe: {coefs[1]}, temporal lobe: {coefs[2]}, occipital lobe: {coefs[3]}\")"
      ],
      "metadata": {
        "colab": {
          "base_uri": "https://localhost:8080/"
        },
        "id": "nhxK7VEFN9n2",
        "outputId": "fcc6c349-8717-408d-a927-24cc20d48ec3"
      },
      "id": "nhxK7VEFN9n2",
      "execution_count": null,
      "outputs": [
        {
          "output_type": "stream",
          "name": "stdout",
          "text": [
            "frontal lobe: 0.626, parietal lobe: 0.196, temporal lobe: 0.166, occipital lobe: 0.012\n"
          ]
        }
      ]
    },
    {
      "cell_type": "markdown",
      "source": [
        "### Correlation Results\n",
        "Each term's correlation with four lobes is printed below. The lobe that is most correlated to the term is printed in UPPER CASE."
      ],
      "metadata": {
        "id": "QNtjmCtL1cb_"
      },
      "id": "QNtjmCtL1cb_"
    },
    {
      "cell_type": "code",
      "source": [
        "# go through all the terms and compute each term's relationship with four lobes\n",
        "term_lobes_rel = {}\n",
        "for term in valid_terms:\n",
        "  coefs = compute_correlation(term)\n",
        "  term_lobes_rel[term] = coefs\n",
        "  lobes = ['frontal lobe', 'parietal lobe', 'temporal lobe', 'occipital lobe']\n",
        "  ind_win = list(coefs).index(max(list(coefs))) # determin which lobe has max coef\n",
        "  lobes[ind_win] = lobes[ind_win].upper()\n",
        "  # print correlations between term and four lobes \n",
        "  # most corrected lobe is shown in UPPER CASE\n",
        "  # print(f\"{term}:\")\n",
        "  # print(f\"{lobes[0]}: {coefs[0]}, {lobes[1]}: {coefs[1]}, {lobes[2]}: {coefs[2]}, {lobes[3]}: {coefs[3]}\\n\")"
      ],
      "metadata": {
        "id": "mZqzCYy2OyX6"
      },
      "id": "mZqzCYy2OyX6",
      "execution_count": null,
      "outputs": []
    },
    {
      "cell_type": "code",
      "source": [
        "# create data\n",
        "df = pd.DataFrame([['affect perception', 0.275, 0.098, 0.569, 0.059], ['analogical reasoning', 0.545, 0.143, 0.273, 0.039], ['attentional capacity', 0.366, 0.171, 0.427, 0.037],\n",
        "                   ['auditory localization', 0.284, 0.173, 0.444, 0.099], ['auditory working memory', 0.421, 0.215, 0.327, 0.037], ['backward digit span', 0.519, 0.125, 0.298, 0.058],\n",
        "                   ['concept learning', 0.52, 0.24, 0.2, 0.04], ['deductive reasoning', 0.436, 0.35, 0.128, 0.085], ['emotional perception', 0.471, 0.146, 0.28, 0.102], \n",
        "                   ['emotional recognition', 0.514, 0.119, 0.312, 0.055], ['explicit learning', 0.415, 0.17, 0.387, 0.028], ['implicit knowledge', 0.3, 0.24, 0.4, 0.06], \n",
        "                   ['kinesthesia', 0.133, 0.444, 0.4, 0.022], ['logical reasoning', 0.528, 0.247, 0.191, 0.034], ['loss aversion', 0.567, 0.045, 0.358, 0.03], ['motor sequence learning', 0.448, 0.241, 0.256, 0.054],\n",
        "                   ['novelty detection', 0.322, 0.169, 0.486, 0.022], ['phonological loop', 0.417, 0.288, 0.259, 0.036], ['procedural knowledge', 0.269, 0.115, 0.577, 0.038], \n",
        "                   ['risk seeking', 0.6, 0.123, 0.231, 0.046], ['sentence production', 0.381, 0.155, 0.443, 0.021], ['target processing', 0.268, 0.24, 0.436, 0.056],\n",
        "                   ['top down processing', 0.364, 0.222, 0.301, 0.113], ['traumatic memory', 0.537, 0.104, 0.284, 0.085], ['visual masking', 0.101, 0.107, 0.633, 0.16],\n",
        "                   ['word comprehension', 0.248, 0.14, 0.591, 0.021]],\n",
        "                  columns=['Term', 'Frontal', 'Parietal', 'Temporal', 'Occipital'])\n",
        "# view data\n",
        "print(df)\n",
        "  \n",
        "# plot data in stack manner of bar type\n",
        "df.plot(x='Term', kind='barh', stacked=True,\n",
        "        title='Terms Correlation with 4 Lobes')"
      ],
      "metadata": {
        "colab": {
          "base_uri": "https://localhost:8080/",
          "height": 784
        },
        "id": "RArzZZg2SiNT",
        "outputId": "6be463b1-d3c0-44fe-85e1-a842191ea4c7"
      },
      "id": "RArzZZg2SiNT",
      "execution_count": null,
      "outputs": [
        {
          "output_type": "stream",
          "name": "stdout",
          "text": [
            "                       Term  Frontal  Parietal  Temporal  Occipital\n",
            "0         affect perception    0.275     0.098     0.569      0.059\n",
            "1      analogical reasoning    0.545     0.143     0.273      0.039\n",
            "2      attentional capacity    0.366     0.171     0.427      0.037\n",
            "3     auditory localization    0.284     0.173     0.444      0.099\n",
            "4   auditory working memory    0.421     0.215     0.327      0.037\n",
            "5       backward digit span    0.519     0.125     0.298      0.058\n",
            "6          concept learning    0.520     0.240     0.200      0.040\n",
            "7       deductive reasoning    0.436     0.350     0.128      0.085\n",
            "8      emotional perception    0.471     0.146     0.280      0.102\n",
            "9     emotional recognition    0.514     0.119     0.312      0.055\n",
            "10        explicit learning    0.415     0.170     0.387      0.028\n",
            "11       implicit knowledge    0.300     0.240     0.400      0.060\n",
            "12              kinesthesia    0.133     0.444     0.400      0.022\n",
            "13        logical reasoning    0.528     0.247     0.191      0.034\n",
            "14            loss aversion    0.567     0.045     0.358      0.030\n",
            "15  motor sequence learning    0.448     0.241     0.256      0.054\n",
            "16        novelty detection    0.322     0.169     0.486      0.022\n",
            "17        phonological loop    0.417     0.288     0.259      0.036\n",
            "18     procedural knowledge    0.269     0.115     0.577      0.038\n",
            "19             risk seeking    0.600     0.123     0.231      0.046\n",
            "20      sentence production    0.381     0.155     0.443      0.021\n",
            "21        target processing    0.268     0.240     0.436      0.056\n",
            "22      top down processing    0.364     0.222     0.301      0.113\n",
            "23         traumatic memory    0.537     0.104     0.284      0.085\n",
            "24           visual masking    0.101     0.107     0.633      0.160\n",
            "25       word comprehension    0.248     0.140     0.591      0.021\n"
          ]
        },
        {
          "output_type": "execute_result",
          "data": {
            "text/plain": [
              "<matplotlib.axes._subplots.AxesSubplot at 0x7fb7f02a6510>"
            ]
          },
          "metadata": {},
          "execution_count": 13
        },
        {
          "output_type": "display_data",
          "data": {
            "text/plain": [
              "<Figure size 432x288 with 1 Axes>"
            ],
            "image/png": "[encoded data removed]"
          },
          "metadata": {
            "needs_background": "light"
          }
        }
      ]
    },
    {
      "cell_type": "code",
      "source": [
        "y = [0, 0, 0, 0]\n",
        "for term in valid_terms:\n",
        "  ind = term_lobes_rel[term].index(max(term_lobes_rel[term]))\n",
        "  y[ind] += 1\n",
        "plt.bar([lobe.lower() for lobe in lobes], y)"
      ],
      "metadata": {
        "colab": {
          "base_uri": "https://localhost:8080/",
          "height": 283
        },
        "id": "R9XUkIV0C0C2",
        "outputId": "cf604dd4-c5c9-4bb1-9a60-0fbcc128780e"
      },
      "id": "R9XUkIV0C0C2",
      "execution_count": null,
      "outputs": [
        {
          "output_type": "execute_result",
          "data": {
            "text/plain": [
              "<BarContainer object of 4 artists>"
            ]
          },
          "metadata": {},
          "execution_count": 45
        },
        {
          "output_type": "display_data",
          "data": {
            "text/plain": [
              "<Figure size 432x288 with 1 Axes>"
            ],
            "image/png": "[encoded data removed]"
          },
          "metadata": {
            "needs_background": "light"
          }
        }
      ]
    },
    {
      "cell_type": "markdown",
      "source": [
        "Among the 26 terms, 15 terms have strongest correlation with the frontal lobe, 1 term with parietal lobe, 10 terms with temporal lobe, and 0 with occipital lobe."
      ],
      "metadata": {
        "id": "im5ke-qNF_Em"
      },
      "id": "im5ke-qNF_Em"
    },
    {
      "cell_type": "markdown",
      "source": [
        "## Term Clustering\n",
        "Using NLP to cluster the terms based on their related article's abstracts. Using TF-IDF for word vectorization and K-Means for clustering."
      ],
      "metadata": {
        "id": "KLncdd-PpP3c"
      },
      "id": "KLncdd-PpP3c"
    },
    {
      "cell_type": "markdown",
      "source": [
        "### Small term-set clustering\n",
        "Applying clustering on the 26 terms we previously used to analyse term-lobe relations."
      ],
      "metadata": {
        "id": "_u718WBtpYSO"
      },
      "id": "_u718WBtpYSO"
    },
    {
      "cell_type": "code",
      "source": [
        "# extract abstract of the articles of the 26 terms\n",
        "term_text = []\n",
        "for term in valid_terms:\n",
        "  results, meta_data = collect_words([[term]], field='tiab', retmax=500)\n",
        "  text = ' '.join(results[0].words)\n",
        "  term_text.append([term, text])"
      ],
      "metadata": {
        "id": "90j4NzQV2or3"
      },
      "id": "90j4NzQV2or3",
      "execution_count": null,
      "outputs": []
    },
    {
      "cell_type": "code",
      "source": [
        "term_text_df = pd.DataFrame(term_text, columns=['term', 'text'])\n",
        "term_text_df.head()"
      ],
      "metadata": {
        "colab": {
          "base_uri": "https://localhost:8080/",
          "height": 206
        },
        "id": "KPssZIpO7BXK",
        "outputId": "4c1a4fa5-8a3d-41f2-e133-9a5a92f145f2"
      },
      "id": "KPssZIpO7BXK",
      "execution_count": null,
      "outputs": [
        {
          "output_type": "execute_result",
          "data": {
            "text/plain": [
              "                      term                                               text\n",
              "0        affect perception  Collaborative interactions require social robo...\n",
              "1     analogical reasoning  Recently, interest has surged in similarity-ba...\n",
              "2     attentional capacity  The attentional capacity required of haptic mo...\n",
              "3    auditory localization  What factors are important in the calibration ...\n",
              "4  auditory working memory  Previous studies have found conflicting result..."
            ],
            "text/html": [
              "\n",
              "  <div id=\"df-1cdd20c5-d1e7-43ee-ba75-152a7c5e1b6a\">\n",
              "    <div class=\"colab-df-container\">\n",
              "      <div>\n",
              "<style scoped>\n",
              "    .dataframe tbody tr th:only-of-type {\n",
              "        vertical-align: middle;\n",
              "    }\n",
              "\n",
              "    .dataframe tbody tr th {\n",
              "        vertical-align: top;\n",
              "    }\n",
              "\n",
              "    .dataframe thead th {\n",
              "        text-align: right;\n",
              "    }\n",
              "</style>\n",
              "<table border=\"1\" class=\"dataframe\">\n",
              "  <thead>\n",
              "    <tr style=\"text-align: right;\">\n",
              "      <th></th>\n",
              "      <th>term</th>\n",
              "      <th>text</th>\n",
              "    </tr>\n",
              "  </thead>\n",
              "  <tbody>\n",
              "    <tr>\n",
              "      <th>0</th>\n",
              "      <td>affect perception</td>\n",
              "      <td>Collaborative interactions require social robo...</td>\n",
              "    </tr>\n",
              "    <tr>\n",
              "      <th>1</th>\n",
              "      <td>analogical reasoning</td>\n",
              "      <td>Recently, interest has surged in similarity-ba...</td>\n",
              "    </tr>\n",
              "    <tr>\n",
              "      <th>2</th>\n",
              "      <td>attentional capacity</td>\n",
              "      <td>The attentional capacity required of haptic mo...</td>\n",
              "    </tr>\n",
              "    <tr>\n",
              "      <th>3</th>\n",
              "      <td>auditory localization</td>\n",
              "      <td>What factors are important in the calibration ...</td>\n",
              "    </tr>\n",
              "    <tr>\n",
              "      <th>4</th>\n",
              "      <td>auditory working memory</td>\n",
              "      <td>Previous studies have found conflicting result...</td>\n",
              "    </tr>\n",
              "  </tbody>\n",
              "</table>\n",
              "</div>\n",
              "      <button class=\"colab-df-convert\" onclick=\"convertToInteractive('df-1cdd20c5-d1e7-43ee-ba75-152a7c5e1b6a')\"\n",
              "              title=\"Convert this dataframe to an interactive table.\"\n",
              "              style=\"display:none;\">\n",
              "        \n",
              "  <svg xmlns=\"http://www.w3.org/2000/svg\" height=\"24px\"viewBox=\"0 0 24 24\"\n",
              "       width=\"24px\">\n",
              "    <path d=\"M0 0h24v24H0V0z\" fill=\"none\"/>\n",
              "    <path d=\"M18.56 5.44l.94 2.06.94-2.06 2.06-.94-2.06-.94-.94-2.06-.94 2.06-2.06.94zm-11 1L8.5 8.5l.94-2.06 2.06-.94-2.06-.94L8.5 2.5l-.94 2.06-2.06.94zm10 10l.94 2.06.94-2.06 2.06-.94-2.06-.94-.94-2.06-.94 2.06-2.06.94z\"/><path d=\"M17.41 7.96l-1.37-1.37c-.4-.4-.92-.59-1.43-.59-.52 0-1.04.2-1.43.59L10.3 9.45l-7.72 7.72c-.78.78-.78 2.05 0 2.83L4 21.41c.39.39.9.59 1.41.59.51 0 1.02-.2 1.41-.59l7.78-7.78 2.81-2.81c.8-.78.8-2.07 0-2.86zM5.41 20L4 18.59l7.72-7.72 1.47 1.35L5.41 20z\"/>\n",
              "  </svg>\n",
              "      </button>\n",
              "      \n",
              "  <style>\n",
              "    .colab-df-container {\n",
              "      display:flex;\n",
              "      flex-wrap:wrap;\n",
              "      gap: 12px;\n",
              "    }\n",
              "\n",
              "    .colab-df-convert {\n",
              "      background-color: #E8F0FE;\n",
              "      border: none;\n",
              "      border-radius: 50%;\n",
              "      cursor: pointer;\n",
              "      display: none;\n",
              "      fill: #1967D2;\n",
              "      height: 32px;\n",
              "      padding: 0 0 0 0;\n",
              "      width: 32px;\n",
              "    }\n",
              "\n",
              "    .colab-df-convert:hover {\n",
              "      background-color: #E2EBFA;\n",
              "      box-shadow: 0px 1px 2px rgba(60, 64, 67, 0.3), 0px 1px 3px 1px rgba(60, 64, 67, 0.15);\n",
              "      fill: #174EA6;\n",
              "    }\n",
              "\n",
              "    [theme=dark] .colab-df-convert {\n",
              "      background-color: #3B4455;\n",
              "      fill: #D2E3FC;\n",
              "    }\n",
              "\n",
              "    [theme=dark] .colab-df-convert:hover {\n",
              "      background-color: #434B5C;\n",
              "      box-shadow: 0px 1px 3px 1px rgba(0, 0, 0, 0.15);\n",
              "      filter: drop-shadow(0px 1px 2px rgba(0, 0, 0, 0.3));\n",
              "      fill: #FFFFFF;\n",
              "    }\n",
              "  </style>\n",
              "\n",
              "      <script>\n",
              "        const buttonEl =\n",
              "          document.querySelector('#df-1cdd20c5-d1e7-43ee-ba75-152a7c5e1b6a button.colab-df-convert');\n",
              "        buttonEl.style.display =\n",
              "          google.colab.kernel.accessAllowed ? 'block' : 'none';\n",
              "\n",
              "        async function convertToInteractive(key) {\n",
              "          const element = document.querySelector('#df-1cdd20c5-d1e7-43ee-ba75-152a7c5e1b6a');\n",
              "          const dataTable =\n",
              "            await google.colab.kernel.invokeFunction('convertToInteractive',\n",
              "                                                     [key], {});\n",
              "          if (!dataTable) return;\n",
              "\n",
              "          const docLinkHtml = 'Like what you see? Visit the ' +\n",
              "            '<a target=\"_blank\" href=https://colab.research.google.com/notebooks/data_table.ipynb>data table notebook</a>'\n",
              "            + ' to learn more about interactive tables.';\n",
              "          element.innerHTML = '';\n",
              "          dataTable['output_type'] = 'display_data';\n",
              "          await google.colab.output.renderOutput(dataTable, element);\n",
              "          const docLink = document.createElement('div');\n",
              "          docLink.innerHTML = docLinkHtml;\n",
              "          element.appendChild(docLink);\n",
              "        }\n",
              "      </script>\n",
              "    </div>\n",
              "  </div>\n",
              "  "
            ]
          },
          "metadata": {},
          "execution_count": 47
        }
      ]
    },
    {
      "cell_type": "code",
      "source": [
        "# store term_test_df as a csv file\n",
        "# term_text_df.to_csv('/content/drive/MyDrive/datasets/cogs138-function-lobe-relation/term_text_small.csv', index=False)"
      ],
      "metadata": {
        "id": "4cTu0M2oIM0H"
      },
      "id": "4cTu0M2oIM0H",
      "execution_count": null,
      "outputs": []
    },
    {
      "cell_type": "code",
      "source": [
        "def text_clean(text):\n",
        "    '''\n",
        "    Takes in a string of text, then performs the following:\n",
        "    1. Remove all punctuation\n",
        "    2. Remove all stopwords\n",
        "    3. Return the cleaned text as a list of words\n",
        "    4. Remove words\n",
        "    '''\n",
        "    stemmer = WordNetLemmatizer()\n",
        "    nopunc = [char for char in text if char not in string.punctuation]\n",
        "    nopunc = ''.join([i for i in nopunc if not i.isdigit()])\n",
        "    nopunc =  [word.lower() for word in nopunc.split() if word not in stopwords.words('english')]\n",
        "    return ' '.join([stemmer.lemmatize(word) for word in nopunc])"
      ],
      "metadata": {
        "id": "LJT-4JgKW-xG"
      },
      "id": "LJT-4JgKW-xG",
      "execution_count": null,
      "outputs": []
    },
    {
      "cell_type": "code",
      "source": [
        "term_text_df['text_clean'] = term_text_df['text'].apply(text_clean)\n",
        "term_text_df.head()"
      ],
      "metadata": {
        "colab": {
          "base_uri": "https://localhost:8080/",
          "height": 206
        },
        "id": "KKDs4aIDXFGr",
        "outputId": "3e26d130-06b0-4ecb-f7c1-53ddd8c5e997"
      },
      "id": "KKDs4aIDXFGr",
      "execution_count": null,
      "outputs": [
        {
          "output_type": "execute_result",
          "data": {
            "text/plain": [
              "                      term                                               text  \\\n",
              "0        affect perception  Collaborative interactions require social robo...   \n",
              "1     analogical reasoning  Recently, interest has surged in similarity-ba...   \n",
              "2     attentional capacity  The attentional capacity required of haptic mo...   \n",
              "3    auditory localization  What factors are important in the calibration ...   \n",
              "4  auditory working memory  Previous studies have found conflicting result...   \n",
              "\n",
              "                                          text_clean  \n",
              "0  collaborative interaction require social robot...  \n",
              "1  recently interest surged similaritybased epist...  \n",
              "2  the attentional capacity required haptic modal...  \n",
              "3  what factor important calibration mental repre...  \n",
              "4  previous study found conflicting result indivi...  "
            ],
            "text/html": [
              "\n",
              "  <div id=\"df-6cd1949b-f487-457a-98fe-1b83b654462d\">\n",
              "    <div class=\"colab-df-container\">\n",
              "      <div>\n",
              "<style scoped>\n",
              "    .dataframe tbody tr th:only-of-type {\n",
              "        vertical-align: middle;\n",
              "    }\n",
              "\n",
              "    .dataframe tbody tr th {\n",
              "        vertical-align: top;\n",
              "    }\n",
              "\n",
              "    .dataframe thead th {\n",
              "        text-align: right;\n",
              "    }\n",
              "</style>\n",
              "<table border=\"1\" class=\"dataframe\">\n",
              "  <thead>\n",
              "    <tr style=\"text-align: right;\">\n",
              "      <th></th>\n",
              "      <th>term</th>\n",
              "      <th>text</th>\n",
              "      <th>text_clean</th>\n",
              "    </tr>\n",
              "  </thead>\n",
              "  <tbody>\n",
              "    <tr>\n",
              "      <th>0</th>\n",
              "      <td>affect perception</td>\n",
              "      <td>Collaborative interactions require social robo...</td>\n",
              "      <td>collaborative interaction require social robot...</td>\n",
              "    </tr>\n",
              "    <tr>\n",
              "      <th>1</th>\n",
              "      <td>analogical reasoning</td>\n",
              "      <td>Recently, interest has surged in similarity-ba...</td>\n",
              "      <td>recently interest surged similaritybased epist...</td>\n",
              "    </tr>\n",
              "    <tr>\n",
              "      <th>2</th>\n",
              "      <td>attentional capacity</td>\n",
              "      <td>The attentional capacity required of haptic mo...</td>\n",
              "      <td>the attentional capacity required haptic modal...</td>\n",
              "    </tr>\n",
              "    <tr>\n",
              "      <th>3</th>\n",
              "      <td>auditory localization</td>\n",
              "      <td>What factors are important in the calibration ...</td>\n",
              "      <td>what factor important calibration mental repre...</td>\n",
              "    </tr>\n",
              "    <tr>\n",
              "      <th>4</th>\n",
              "      <td>auditory working memory</td>\n",
              "      <td>Previous studies have found conflicting result...</td>\n",
              "      <td>previous study found conflicting result indivi...</td>\n",
              "    </tr>\n",
              "  </tbody>\n",
              "</table>\n",
              "</div>\n",
              "      <button class=\"colab-df-convert\" onclick=\"convertToInteractive('df-6cd1949b-f487-457a-98fe-1b83b654462d')\"\n",
              "              title=\"Convert this dataframe to an interactive table.\"\n",
              "              style=\"display:none;\">\n",
              "        \n",
              "  <svg xmlns=\"http://www.w3.org/2000/svg\" height=\"24px\"viewBox=\"0 0 24 24\"\n",
              "       width=\"24px\">\n",
              "    <path d=\"M0 0h24v24H0V0z\" fill=\"none\"/>\n",
              "    <path d=\"M18.56 5.44l.94 2.06.94-2.06 2.06-.94-2.06-.94-.94-2.06-.94 2.06-2.06.94zm-11 1L8.5 8.5l.94-2.06 2.06-.94-2.06-.94L8.5 2.5l-.94 2.06-2.06.94zm10 10l.94 2.06.94-2.06 2.06-.94-2.06-.94-.94-2.06-.94 2.06-2.06.94z\"/><path d=\"M17.41 7.96l-1.37-1.37c-.4-.4-.92-.59-1.43-.59-.52 0-1.04.2-1.43.59L10.3 9.45l-7.72 7.72c-.78.78-.78 2.05 0 2.83L4 21.41c.39.39.9.59 1.41.59.51 0 1.02-.2 1.41-.59l7.78-7.78 2.81-2.81c.8-.78.8-2.07 0-2.86zM5.41 20L4 18.59l7.72-7.72 1.47 1.35L5.41 20z\"/>\n",
              "  </svg>\n",
              "      </button>\n",
              "      \n",
              "  <style>\n",
              "    .colab-df-container {\n",
              "      display:flex;\n",
              "      flex-wrap:wrap;\n",
              "      gap: 12px;\n",
              "    }\n",
              "\n",
              "    .colab-df-convert {\n",
              "      background-color: #E8F0FE;\n",
              "      border: none;\n",
              "      border-radius: 50%;\n",
              "      cursor: pointer;\n",
              "      display: none;\n",
              "      fill: #1967D2;\n",
              "      height: 32px;\n",
              "      padding: 0 0 0 0;\n",
              "      width: 32px;\n",
              "    }\n",
              "\n",
              "    .colab-df-convert:hover {\n",
              "      background-color: #E2EBFA;\n",
              "      box-shadow: 0px 1px 2px rgba(60, 64, 67, 0.3), 0px 1px 3px 1px rgba(60, 64, 67, 0.15);\n",
              "      fill: #174EA6;\n",
              "    }\n",
              "\n",
              "    [theme=dark] .colab-df-convert {\n",
              "      background-color: #3B4455;\n",
              "      fill: #D2E3FC;\n",
              "    }\n",
              "\n",
              "    [theme=dark] .colab-df-convert:hover {\n",
              "      background-color: #434B5C;\n",
              "      box-shadow: 0px 1px 3px 1px rgba(0, 0, 0, 0.15);\n",
              "      filter: drop-shadow(0px 1px 2px rgba(0, 0, 0, 0.3));\n",
              "      fill: #FFFFFF;\n",
              "    }\n",
              "  </style>\n",
              "\n",
              "      <script>\n",
              "        const buttonEl =\n",
              "          document.querySelector('#df-6cd1949b-f487-457a-98fe-1b83b654462d button.colab-df-convert');\n",
              "        buttonEl.style.display =\n",
              "          google.colab.kernel.accessAllowed ? 'block' : 'none';\n",
              "\n",
              "        async function convertToInteractive(key) {\n",
              "          const element = document.querySelector('#df-6cd1949b-f487-457a-98fe-1b83b654462d');\n",
              "          const dataTable =\n",
              "            await google.colab.kernel.invokeFunction('convertToInteractive',\n",
              "                                                     [key], {});\n",
              "          if (!dataTable) return;\n",
              "\n",
              "          const docLinkHtml = 'Like what you see? Visit the ' +\n",
              "            '<a target=\"_blank\" href=https://colab.research.google.com/notebooks/data_table.ipynb>data table notebook</a>'\n",
              "            + ' to learn more about interactive tables.';\n",
              "          element.innerHTML = '';\n",
              "          dataTable['output_type'] = 'display_data';\n",
              "          await google.colab.output.renderOutput(dataTable, element);\n",
              "          const docLink = document.createElement('div');\n",
              "          docLink.innerHTML = docLinkHtml;\n",
              "          element.appendChild(docLink);\n",
              "        }\n",
              "      </script>\n",
              "    </div>\n",
              "  </div>\n",
              "  "
            ]
          },
          "metadata": {},
          "execution_count": 50
        }
      ]
    },
    {
      "cell_type": "code",
      "source": [
        "# vectorize the text words\n",
        "word_vectorizer = TfidfVectorizer(strip_accents='unicode', ngram_range=(1, 3), stop_words = stopwords.words('english'))\n",
        "X = word_vectorizer.fit_transform(term_text_df['text_clean'])"
      ],
      "metadata": {
        "id": "f7IFvUhLIyRS"
      },
      "id": "f7IFvUhLIyRS",
      "execution_count": null,
      "outputs": []
    },
    {
      "cell_type": "code",
      "source": [
        "# find optimal k \n",
        "ssd = [] # sum of squared distances\n",
        "for k in range(1, 27, 2): \n",
        "  km = KMeans(n_clusters=k).fit(X)\n",
        "  ssd.append(km.inertia_)"
      ],
      "metadata": {
        "id": "Jx0HKh8YztlI"
      },
      "id": "Jx0HKh8YztlI",
      "execution_count": null,
      "outputs": []
    },
    {
      "cell_type": "code",
      "source": [
        "# find elbow point\n",
        "kn = KneeLocator(range(1, 27, 2), ssd, curve='convex', direction='decreasing')\n",
        "k_opt = kn.knee\n",
        "print('elbow point:', k_opt)\n",
        "\n",
        "# plot sum of squared distance curve and elbow point\n",
        "plt.xlabel('number of clusters k')\n",
        "plt.ylabel('Sum of squared distances')\n",
        "plt.plot(range(1, 27, 2), ssd, 'bx-')\n",
        "plt.vlines(k_opt, plt.ylim()[0], plt.ylim()[1], linestyles='dashed')"
      ],
      "metadata": {
        "colab": {
          "base_uri": "https://localhost:8080/",
          "height": 314
        },
        "id": "NdSICpEknQY8",
        "outputId": "e27651b5-2168-476e-ffb1-e74058013963"
      },
      "id": "NdSICpEknQY8",
      "execution_count": null,
      "outputs": [
        {
          "output_type": "stream",
          "name": "stdout",
          "text": [
            "elbow point: 11\n"
          ]
        },
        {
          "output_type": "execute_result",
          "data": {
            "text/plain": [
              "<matplotlib.collections.LineCollection at 0x7f12e8a596d0>"
            ]
          },
          "metadata": {},
          "execution_count": 95
        },
        {
          "output_type": "display_data",
          "data": {
            "text/plain": [
              "<Figure size 432x288 with 1 Axes>"
            ],
            "image/png": "[encoded data removed]"
          },
          "metadata": {
            "needs_background": "light"
          }
        }
      ]
    },
    {
      "cell_type": "code",
      "source": [
        "# find the clusters by optimal k\n",
        "clusters = KMeans(n_clusters=11).fit(X)"
      ],
      "metadata": {
        "id": "eh_p_oxRg6ZM"
      },
      "id": "eh_p_oxRg6ZM",
      "execution_count": null,
      "outputs": []
    },
    {
      "cell_type": "markdown",
      "source": [
        "#### Results\n",
        "The results are shwon in a dictionary, in which key is cluster and value is list of terms in the cluster."
      ],
      "metadata": {
        "id": "CqTVjMIb5Sc6"
      },
      "id": "CqTVjMIb5Sc6"
    },
    {
      "cell_type": "code",
      "source": [
        "term_clusters = {}\n",
        "for i in range(11):\n",
        "  terms = list(term_text_df[clusters.labels_==i].iloc[:,0])\n",
        "  term_clusters[i] = terms\n",
        "for cluster, term in term_clusters.items():\n",
        "  print(cluster, term)"
      ],
      "metadata": {
        "colab": {
          "base_uri": "https://localhost:8080/"
        },
        "id": "VoeNwTf9kNU7",
        "outputId": "3ee10707-4545-4e22-a78f-f0f1bc1feb65"
      },
      "id": "VoeNwTf9kNU7",
      "execution_count": null,
      "outputs": [
        {
          "output_type": "stream",
          "name": "stdout",
          "text": [
            "0 ['concept learning', 'explicit learning', 'motor sequence learning']\n",
            "1 ['auditory working memory', 'backward digit span', 'phonological loop']\n",
            "2 ['loss aversion', 'risk seeking']\n",
            "3 ['attentional capacity', 'novelty detection', 'target processing', 'top down processing', 'visual masking']\n",
            "4 ['analogical reasoning', 'deductive reasoning', 'logical reasoning']\n",
            "5 ['kinesthesia']\n",
            "6 ['affect perception', 'emotional perception', 'emotional recognition']\n",
            "7 ['traumatic memory']\n",
            "8 ['implicit knowledge', 'procedural knowledge']\n",
            "9 ['auditory localization']\n",
            "10 ['sentence production', 'word comprehension']\n"
          ]
        }
      ]
    },
    {
      "cell_type": "markdown",
      "source": [
        "It can be seen that the terms in each of these clusters are very similar in there correlations between the four lobes."
      ],
      "metadata": {
        "id": "Chew07R8sAiv"
      },
      "id": "Chew07R8sAiv"
    },
    {
      "cell_type": "code",
      "source": [
        "dfc1 = df[df['Term'].str.contains('auditory working memory') | df['Term'].str.contains('backward digit span') | df['Term'].str.contains('phonological loop') ]\n",
        "dfc1.plot(x='Term', kind='barh', stacked=True,\n",
        "        title='Cluster 1')"
      ],
      "metadata": {
        "colab": {
          "base_uri": "https://localhost:8080/",
          "height": 299
        },
        "id": "8OlyOMkuS0kk",
        "outputId": "4a3341c1-715a-47bc-e521-87bb1c6d4350"
      },
      "id": "8OlyOMkuS0kk",
      "execution_count": null,
      "outputs": [
        {
          "output_type": "execute_result",
          "data": {
            "text/plain": [
              "<matplotlib.axes._subplots.AxesSubplot at 0x7fb7f0bc90d0>"
            ]
          },
          "metadata": {},
          "execution_count": 14
        },
        {
          "output_type": "display_data",
          "data": {
            "text/plain": [
              "<Figure size 432x288 with 1 Axes>"
            ],
            "image/png": "[encoded data removed]"
          },
          "metadata": {
            "needs_background": "light"
          }
        }
      ]
    },
    {
      "cell_type": "code",
      "source": [
        "dfc6 = df[df['Term'].str.contains('affect perception') | df['Term'].str.contains('emotional perception') | df['Term'].str.contains('emotional recognition') ]\n",
        "dfc6.plot(x='Term', kind='barh', stacked=True,\n",
        "        title='Cluster 6')"
      ],
      "metadata": {
        "colab": {
          "base_uri": "https://localhost:8080/",
          "height": 299
        },
        "id": "KYyG1lUrS3JD",
        "outputId": "76a36067-82c6-474e-b3ea-3b0c6d266fca"
      },
      "id": "KYyG1lUrS3JD",
      "execution_count": null,
      "outputs": [
        {
          "output_type": "execute_result",
          "data": {
            "text/plain": [
              "<matplotlib.axes._subplots.AxesSubplot at 0x7fb7efb4f8d0>"
            ]
          },
          "metadata": {},
          "execution_count": 15
        },
        {
          "output_type": "display_data",
          "data": {
            "text/plain": [
              "<Figure size 432x288 with 1 Axes>"
            ],
            "image/png": "[encoded data removed]"
          },
          "metadata": {
            "needs_background": "light"
          }
        }
      ]
    },
    {
      "cell_type": "code",
      "source": [
        "dfc4 = df[df['Term'].str.contains('analogical reasoning') | df['Term'].str.contains('deductive reasoning') | df['Term'].str.contains('logical reasoning') ]\n",
        "dfc4.plot(x='Term', kind='barh', stacked=True,\n",
        "        title='Cluster 4')"
      ],
      "metadata": {
        "colab": {
          "base_uri": "https://localhost:8080/",
          "height": 299
        },
        "id": "jwSG-tZlS5KF",
        "outputId": "10e69d37-4945-47cb-b9a3-8171c24f798b"
      },
      "id": "jwSG-tZlS5KF",
      "execution_count": null,
      "outputs": [
        {
          "output_type": "execute_result",
          "data": {
            "text/plain": [
              "<matplotlib.axes._subplots.AxesSubplot at 0x7fb7efaea2d0>"
            ]
          },
          "metadata": {},
          "execution_count": 16
        },
        {
          "output_type": "display_data",
          "data": {
            "text/plain": [
              "<Figure size 432x288 with 1 Axes>"
            ],
            "image/png": "[encoded data removed]"
          },
          "metadata": {
            "needs_background": "light"
          }
        }
      ]
    },
    {
      "cell_type": "markdown",
      "source": [
        "### Larger term-set clustering"
      ],
      "metadata": {
        "id": "qIVPMNsjqPg7"
      },
      "id": "qIVPMNsjqPg7"
    },
    {
      "cell_type": "markdown",
      "source": [
        "#### Extract larger term-set\n",
        "Extract valid terms that have 100 related articles so that there will be enough information for analysing"
      ],
      "metadata": {
        "id": "KrY9Hgtd0vaq"
      },
      "id": "KrY9Hgtd0vaq"
    },
    {
      "cell_type": "code",
      "source": [
        "# find all terms that has 100+ related articles\n",
        "# cluster_terms = []\n",
        "# for term in all_terms:\n",
        "#   results, meta_data = collect_words([term], field='tiab', verbose=False)\n",
        "#   if len(results[0]) >= 100:\n",
        "#     cluster_terms.append(term)\n",
        "# print(len(cluster_terms))"
      ],
      "metadata": {
        "id": "CaLBdPyuAf3N"
      },
      "id": "CaLBdPyuAf3N",
      "execution_count": null,
      "outputs": []
    },
    {
      "cell_type": "code",
      "source": [
        "# save the terms into terms.txt\n",
        "# with open('/content/drive/MyDrive/datasets/cluster_terms.txt', 'w') as f:\n",
        "#   for term in cluster_terms:\n",
        "#     f.write(term[0])\n",
        "#     f.write('\\n')"
      ],
      "metadata": {
        "id": "6FQVOgbE0vNN"
      },
      "id": "6FQVOgbE0vNN",
      "execution_count": null,
      "outputs": []
    },
    {
      "cell_type": "code",
      "source": [
        "# read all the cluster terms into a list\n",
        "fterms = open('/content/drive/MyDrive/datasets/cogs138-function-lobe-relation/cluster_terms.txt', 'r')\n",
        "cluster_terms = fterms.read().split('\\n')\n",
        "fterms.close()\n",
        "cluster_terms = cluster_terms[0:len(cluster_terms)-1]\n",
        "unique = []\n",
        "[unique.append(term) for term in cluster_terms if term not in unique]\n",
        "cluster_terms = unique\n",
        "len(cluster_terms)"
      ],
      "metadata": {
        "colab": {
          "base_uri": "https://localhost:8080/"
        },
        "id": "fb-nv_PS1D_B",
        "outputId": "87cebb2d-d44e-4a35-f29a-1cf6c46fc72a"
      },
      "id": "fb-nv_PS1D_B",
      "execution_count": null,
      "outputs": [
        {
          "output_type": "execute_result",
          "data": {
            "text/plain": [
              "276"
            ]
          },
          "metadata": {},
          "execution_count": 8
        }
      ]
    },
    {
      "cell_type": "code",
      "source": [
        "# extract text for each term\n",
        "term_text2 = []\n",
        "inds = random.sample(range(0, 276), 100) # draw 100 random terms\n",
        "for i in inds:\n",
        "  term = cluster_terms[i]\n",
        "  results, meta_data = collect_words([[term]], field='tiab')\n",
        "  text = ' '.join(results[0].words)\n",
        "  term_text2.append([term, text])"
      ],
      "metadata": {
        "id": "VOVOJ_R5PLx9"
      },
      "id": "VOVOJ_R5PLx9",
      "execution_count": null,
      "outputs": []
    },
    {
      "cell_type": "code",
      "source": [
        "# save gathered data to csv file\n",
        "# term_text_df2[['term', 'text']].to_csv('/content/drive/MyDrive/datasets/cogs138-function-lobe-relation/term_text_large.csv', index=False)"
      ],
      "metadata": {
        "id": "2NSRzUzOmHX-"
      },
      "id": "2NSRzUzOmHX-",
      "execution_count": null,
      "outputs": []
    },
    {
      "cell_type": "code",
      "source": [
        "# clean text\n",
        "# term_text_df2 = pd.DataFrame(term_text2, columns=['term', 'text'])\n",
        "term_text_df2 = pd.read_csv('/content/drive/MyDrive/datasets/cogs138-function-lobe-relation/term_text_large.csv')\n",
        "term_text_df2['text_clean'] = term_text_df2['text'].apply(text_clean)\n",
        "term_text_df2.head()"
      ],
      "metadata": {
        "colab": {
          "base_uri": "https://localhost:8080/",
          "height": 206
        },
        "id": "qngZOuUlR_tl",
        "outputId": "975d6be5-7936-40df-856c-8252b37d04de"
      },
      "id": "qngZOuUlR_tl",
      "execution_count": null,
      "outputs": [
        {
          "output_type": "execute_result",
          "data": {
            "text/plain": [
              "              term                                               text  \\\n",
              "0            anger  Family mealtimes can be important for supporti...   \n",
              "1   task switching  The P3 component (P300, P3b) is considered to ...   \n",
              "2  reconsolidation  Spaced training, which involves long inter-tri...   \n",
              "3   context memory  Lateral entorhinal cortex (LEC) has been hypot...   \n",
              "4       handedness  ConspectusMechanically interlocked molecules s...   \n",
              "\n",
              "                                          text_clean  \n",
              "0  family mealtime important supporting childrens...  \n",
              "1  the p component p pb considered effective inde...  \n",
              "2  spaced training involves long intertrial inter...  \n",
              "3  lateral entorhinal cortex lec hypothesized pro...  \n",
              "4  conspectusmechanically interlocked molecule ro...  "
            ],
            "text/html": [
              "\n",
              "  <div id=\"df-4e4ff3ab-a688-412f-b004-54f12af4f12a\">\n",
              "    <div class=\"colab-df-container\">\n",
              "      <div>\n",
              "<style scoped>\n",
              "    .dataframe tbody tr th:only-of-type {\n",
              "        vertical-align: middle;\n",
              "    }\n",
              "\n",
              "    .dataframe tbody tr th {\n",
              "        vertical-align: top;\n",
              "    }\n",
              "\n",
              "    .dataframe thead th {\n",
              "        text-align: right;\n",
              "    }\n",
              "</style>\n",
              "<table border=\"1\" class=\"dataframe\">\n",
              "  <thead>\n",
              "    <tr style=\"text-align: right;\">\n",
              "      <th></th>\n",
              "      <th>term</th>\n",
              "      <th>text</th>\n",
              "      <th>text_clean</th>\n",
              "    </tr>\n",
              "  </thead>\n",
              "  <tbody>\n",
              "    <tr>\n",
              "      <th>0</th>\n",
              "      <td>anger</td>\n",
              "      <td>Family mealtimes can be important for supporti...</td>\n",
              "      <td>family mealtime important supporting childrens...</td>\n",
              "    </tr>\n",
              "    <tr>\n",
              "      <th>1</th>\n",
              "      <td>task switching</td>\n",
              "      <td>The P3 component (P300, P3b) is considered to ...</td>\n",
              "      <td>the p component p pb considered effective inde...</td>\n",
              "    </tr>\n",
              "    <tr>\n",
              "      <th>2</th>\n",
              "      <td>reconsolidation</td>\n",
              "      <td>Spaced training, which involves long inter-tri...</td>\n",
              "      <td>spaced training involves long intertrial inter...</td>\n",
              "    </tr>\n",
              "    <tr>\n",
              "      <th>3</th>\n",
              "      <td>context memory</td>\n",
              "      <td>Lateral entorhinal cortex (LEC) has been hypot...</td>\n",
              "      <td>lateral entorhinal cortex lec hypothesized pro...</td>\n",
              "    </tr>\n",
              "    <tr>\n",
              "      <th>4</th>\n",
              "      <td>handedness</td>\n",
              "      <td>ConspectusMechanically interlocked molecules s...</td>\n",
              "      <td>conspectusmechanically interlocked molecule ro...</td>\n",
              "    </tr>\n",
              "  </tbody>\n",
              "</table>\n",
              "</div>\n",
              "      <button class=\"colab-df-convert\" onclick=\"convertToInteractive('df-4e4ff3ab-a688-412f-b004-54f12af4f12a')\"\n",
              "              title=\"Convert this dataframe to an interactive table.\"\n",
              "              style=\"display:none;\">\n",
              "        \n",
              "  <svg xmlns=\"http://www.w3.org/2000/svg\" height=\"24px\"viewBox=\"0 0 24 24\"\n",
              "       width=\"24px\">\n",
              "    <path d=\"M0 0h24v24H0V0z\" fill=\"none\"/>\n",
              "    <path d=\"M18.56 5.44l.94 2.06.94-2.06 2.06-.94-2.06-.94-.94-2.06-.94 2.06-2.06.94zm-11 1L8.5 8.5l.94-2.06 2.06-.94-2.06-.94L8.5 2.5l-.94 2.06-2.06.94zm10 10l.94 2.06.94-2.06 2.06-.94-2.06-.94-.94-2.06-.94 2.06-2.06.94z\"/><path d=\"M17.41 7.96l-1.37-1.37c-.4-.4-.92-.59-1.43-.59-.52 0-1.04.2-1.43.59L10.3 9.45l-7.72 7.72c-.78.78-.78 2.05 0 2.83L4 21.41c.39.39.9.59 1.41.59.51 0 1.02-.2 1.41-.59l7.78-7.78 2.81-2.81c.8-.78.8-2.07 0-2.86zM5.41 20L4 18.59l7.72-7.72 1.47 1.35L5.41 20z\"/>\n",
              "  </svg>\n",
              "      </button>\n",
              "      \n",
              "  <style>\n",
              "    .colab-df-container {\n",
              "      display:flex;\n",
              "      flex-wrap:wrap;\n",
              "      gap: 12px;\n",
              "    }\n",
              "\n",
              "    .colab-df-convert {\n",
              "      background-color: #E8F0FE;\n",
              "      border: none;\n",
              "      border-radius: 50%;\n",
              "      cursor: pointer;\n",
              "      display: none;\n",
              "      fill: #1967D2;\n",
              "      height: 32px;\n",
              "      padding: 0 0 0 0;\n",
              "      width: 32px;\n",
              "    }\n",
              "\n",
              "    .colab-df-convert:hover {\n",
              "      background-color: #E2EBFA;\n",
              "      box-shadow: 0px 1px 2px rgba(60, 64, 67, 0.3), 0px 1px 3px 1px rgba(60, 64, 67, 0.15);\n",
              "      fill: #174EA6;\n",
              "    }\n",
              "\n",
              "    [theme=dark] .colab-df-convert {\n",
              "      background-color: #3B4455;\n",
              "      fill: #D2E3FC;\n",
              "    }\n",
              "\n",
              "    [theme=dark] .colab-df-convert:hover {\n",
              "      background-color: #434B5C;\n",
              "      box-shadow: 0px 1px 3px 1px rgba(0, 0, 0, 0.15);\n",
              "      filter: drop-shadow(0px 1px 2px rgba(0, 0, 0, 0.3));\n",
              "      fill: #FFFFFF;\n",
              "    }\n",
              "  </style>\n",
              "\n",
              "      <script>\n",
              "        const buttonEl =\n",
              "          document.querySelector('#df-4e4ff3ab-a688-412f-b004-54f12af4f12a button.colab-df-convert');\n",
              "        buttonEl.style.display =\n",
              "          google.colab.kernel.accessAllowed ? 'block' : 'none';\n",
              "\n",
              "        async function convertToInteractive(key) {\n",
              "          const element = document.querySelector('#df-4e4ff3ab-a688-412f-b004-54f12af4f12a');\n",
              "          const dataTable =\n",
              "            await google.colab.kernel.invokeFunction('convertToInteractive',\n",
              "                                                     [key], {});\n",
              "          if (!dataTable) return;\n",
              "\n",
              "          const docLinkHtml = 'Like what you see? Visit the ' +\n",
              "            '<a target=\"_blank\" href=https://colab.research.google.com/notebooks/data_table.ipynb>data table notebook</a>'\n",
              "            + ' to learn more about interactive tables.';\n",
              "          element.innerHTML = '';\n",
              "          dataTable['output_type'] = 'display_data';\n",
              "          await google.colab.output.renderOutput(dataTable, element);\n",
              "          const docLink = document.createElement('div');\n",
              "          docLink.innerHTML = docLinkHtml;\n",
              "          element.appendChild(docLink);\n",
              "        }\n",
              "      </script>\n",
              "    </div>\n",
              "  </div>\n",
              "  "
            ]
          },
          "metadata": {},
          "execution_count": 12
        }
      ]
    },
    {
      "cell_type": "code",
      "source": [
        "# vectorize text \n",
        "word_vectorizer = TfidfVectorizer(strip_accents='unicode', ngram_range=(1, 3), stop_words = stopwords.words('english'))\n",
        "X2 = word_vectorizer.fit_transform(term_text_df2['text_clean'])\n",
        "ssd2 = [] # sum of squared distance\n",
        "for k in range(1, 101, 5): # find optimal k\n",
        "  km = KMeans(n_clusters=k).fit(X2)\n",
        "  ssd2.append(km.inertia_)"
      ],
      "metadata": {
        "id": "-SJzuzYKU8nZ"
      },
      "id": "-SJzuzYKU8nZ",
      "execution_count": null,
      "outputs": []
    },
    {
      "cell_type": "code",
      "source": [
        "kn2 = KneeLocator(range(1, 101, 5), ssd2, curve='convex', direction='decreasing')\n",
        "k_opt2 = kn2.knee\n",
        "print('elbow point:', k_opt2)\n",
        "plt.xlabel('number of clusters k')\n",
        "plt.ylabel('Sum of squared distances')\n",
        "plt.plot(range(1, 101, 5), ssd2, 'bx-')\n",
        "plt.vlines(k_opt2, plt.ylim()[0], plt.ylim()[1], linestyles='dashed')"
      ],
      "metadata": {
        "colab": {
          "base_uri": "https://localhost:8080/",
          "height": 314
        },
        "id": "-KW37Kkmquhn",
        "outputId": "3bc2f5e2-bf5e-4413-f4f5-09c226a39bae"
      },
      "id": "-KW37Kkmquhn",
      "execution_count": null,
      "outputs": [
        {
          "output_type": "stream",
          "name": "stdout",
          "text": [
            "elbow point: 46\n"
          ]
        },
        {
          "output_type": "execute_result",
          "data": {
            "text/plain": [
              "<matplotlib.collections.LineCollection at 0x7f891a4d8bd0>"
            ]
          },
          "metadata": {},
          "execution_count": 15
        },
        {
          "output_type": "display_data",
          "data": {
            "text/plain": [
              "<Figure size 432x288 with 1 Axes>"
            ],
            "image/png": "[encoded data removed]"
          },
          "metadata": {
            "needs_background": "light"
          }
        }
      ]
    },
    {
      "cell_type": "markdown",
      "source": [
        "#### Results\n",
        "The results are shwon in a dictionary, in which key is cluster and value is list of terms in the cluster."
      ],
      "metadata": {
        "id": "JTahDPiV6OMG"
      },
      "id": "JTahDPiV6OMG"
    },
    {
      "cell_type": "code",
      "source": [
        "clusters2 = KMeans(n_clusters=46).fit(X2)\n",
        "term_clusters2 = {}\n",
        "for i in range(k_opt2):\n",
        "  terms = list(term_text_df2[clusters2.labels_==i].iloc[:,0])\n",
        "  term_clusters2[i] = terms\n",
        "for cluster, term in term_clusters2.items():\n",
        "  print(cluster, term)"
      ],
      "metadata": {
        "colab": {
          "base_uri": "https://localhost:8080/"
        },
        "id": "VbCq3Cbgqvvx",
        "outputId": "08a4067f-f581-42cf-d031-01384f455e68"
      },
      "id": "VbCq3Cbgqvvx",
      "execution_count": null,
      "outputs": [
        {
          "output_type": "stream",
          "name": "stdout",
          "text": [
            "0 ['timbre']\n",
            "1 ['digit span', 'simple reaction time', 'Stroop']\n",
            "2 ['false memory']\n",
            "3 ['backward masking', 'subliminal perception']\n",
            "4 ['memory', 'plasticity']\n",
            "5 ['anger', 'emotional recognition', 'facial expression']\n",
            "6 ['sentence comprehension', 'phonological awareness']\n",
            "7 ['fluid intelligence', 'executive function', 'executive control', 'Wisconsin card sorting']\n",
            "8 ['reconsolidation', 'context memory', 'source memory', 'motor memory', 'memory trace', 'forgetting']\n",
            "9 ['color discrimination', 'color perception']\n",
            "10 ['mirror neuron', 'performance monitoring', 'action monitoring']\n",
            "11 ['eyeblink conditioning', 'classical conditioning']\n",
            "12 ['novelty processing', 'involuntary attention', 'perceptual learning', 'oddball', 'perceptual categorization', 'passive listening']\n",
            "13 ['fear', 'contextual knowledge', 'awareness']\n",
            "14 ['object identification', 'object perception']\n",
            "15 ['morphological processing', 'lexical retrieval', 'speech processing', 'semantic processing', 'lexical processing']\n",
            "16 ['task switching', 'cognitive control', 'Eriksen flanker task', 'goal maintenance', 'conflict monitoring', 'n-back']\n",
            "17 ['target processing', 'visual search', 'inhibition of return']\n",
            "18 ['apperception']\n",
            "19 ['lying']\n",
            "20 ['feature extraction', 'short term memory']\n",
            "21 ['inductive inference']\n",
            "22 ['proprioception']\n",
            "23 ['creativity', 'language learning']\n",
            "24 ['autobiographical recall', 'semantic memory', 'episodic memory']\n",
            "25 ['emotional intelligence', 'emotional suppression']\n",
            "26 ['olfaction']\n",
            "27 ['stress']\n",
            "28 ['metaphor']\n",
            "29 ['free will']\n",
            "30 ['theory of mind', 'social cognition']\n",
            "31 ['cognitive dissonance']\n",
            "32 ['imprinting']\n",
            "33 ['vision']\n",
            "34 ['synesthesia']\n",
            "35 ['behavioral inhibition', 'appetitive motivation', 'punishment']\n",
            "36 ['deception']\n",
            "37 ['serial learning']\n",
            "38 ['delay discounting']\n",
            "39 ['long term memory', 'spatial memory', 'reversal learning', 'spatial cognition']\n",
            "40 ['handedness']\n",
            "41 ['visual perception', 'audition', 'visual imagery', 'perceptual binding', 'form perception']\n",
            "42 ['declarative knowledge', 'implicit knowledge']\n",
            "43 ['sleep']\n",
            "44 ['action selection']\n",
            "45 ['self monitoring']\n"
          ]
        }
      ]
    },
    {
      "cell_type": "markdown",
      "source": [
        "### Clustering Results\n",
        "From the analysis we conduct above, we apply clustering analysis twice. For the first time, we apply clustering analysis on the 26 terms that have 300+ related articles. The number of clusters is 11, which is the elbow point we acquire. After getting the results of the clusters, we compare it to the results of the term-lobe correlation. \n",
        "<br/> For the second time, we apply clustering analysis on the 100 terms that have 100+ related articles. The number of clusters is 46, which is the elbow point we acquire. We also compare the results of the clustering to the result of the term-lobe correlation."
      ],
      "metadata": {
        "id": "vtgwxeLz6j39"
      },
      "id": "vtgwxeLz6j39"
    },
    {
      "cell_type": "markdown",
      "source": [
        "# Conclusion & Discussion"
      ],
      "metadata": {
        "id": "VweUWJi_tFUt"
      },
      "id": "VweUWJi_tFUt"
    },
    {
      "cell_type": "markdown",
      "source": [
        "**Discussion of results**\n",
        "<br/>Throughout the entire project, we mainly conducted two analyses. The first was the term-lobes relation analysis involving the 26 terms that all have 300+ related articles, which assesses the ratio of the four lobes’ responsibilities for each brain function. From the result and visualization presented in the corresponding section, we can see the relationship between each brain function and four lobes, we observe that most of the terms have strong relationship with frontal and temporal lobes, which is consistent with the ground truth that this two lobes participate in a lot of major brain functions.  Based on this result, we conducted a second analysis, which is the term clustering. By finding the appropriate elbow point, we had 11 clusters for these 26 terms using K-means. After comparing the results from both analyses, we found that terms representing similar functions are correctly clustered together. Combining this with the result of previous term-lobe analysis, we found that the ratio of lobe responsibilities for terms from each cluster are similar. So it is reasonable to conclude that the brain functions that have similar relationships with lobes of the brain are interconnected. After finishing the analysis of the small term-set, we are curious how the clustering works on more terms but less articles from each term. For the larger term-set, we extracted 100 valid terms that have 100 related articles and did  similar clustering analysis for it. As a result, similarity terms represent similar functions that are clustered together.\n",
        "\n",
        "\n",
        "\n",
        "\n",
        "**Limitations**\n",
        "<br/>While we were doing the final project, we recognized three main limitations. The first limitation is from the LISC package we used to collect articles, which is used as data in our project. We used the function collect_words from the LISC package, and this function collects text data from EUtils using the specified search term. Within the function, there is a parameter called RETMAX, which determines the maximum amount of articles collected. At the beginning, we set it to 100, and we got ideal results. However, as we increased it to 500 for some terms, its output is 0, which really confused us. As a result, we chose 100 and 500 correspondingly for different steps. Second, as mentioned, the maximum number of articles related to each term collected is set to be 500. To run 500 articles, it took the computer more than 1 hour to process. It seems impossible for us to scan through the entire database of Pubmed, as the number of articles on Pubmed is in the millions. 500 is decent enough, but more articles processed would definitely make the result more accurate. Third, as we used the LISC package, the Article object returned by collect_words can only give us title and abstract of the articles instead of the entire text, so we only have the abstract of the articles for NLP and clustering.\n",
        "\n",
        "**Potential Future Works**\n",
        "<br/>In the future, first, we would like to increase the amount of articles collected from 500 to a larger number, which might exponentially increase the amount of time computer processing it, but it would make the results more accurate. Second, we would try to figure out how to extract the entire context of articles, rather than just the titles and abstracts. And this might involve the development of a new method. Third, for this project, we are only interested in the terms of function. In the future, we may analyze the terms of the other features from the list of 1299 terms, such as neurochemical and pathology."
      ],
      "metadata": {
        "id": "yc8VRy9erixS"
      },
      "id": "yc8VRy9erixS"
    },
    {
      "cell_type": "code",
      "source": [
        ""
      ],
      "metadata": {
        "id": "DyF7rNrmrmNu"
      },
      "id": "DyF7rNrmrmNu",
      "execution_count": null,
      "outputs": []
    }
  ],
  "metadata": {
    "kernelspec": {
      "display_name": "Python 3",
      "language": "python",
      "name": "python3"
    },
    "language_info": {
      "codemirror_mode": {
        "name": "ipython",
        "version": 3
      },
      "file_extension": ".py",
      "mimetype": "text/x-python",
      "name": "python",
      "nbconvert_exporter": "python",
      "pygments_lexer": "ipython3",
      "version": "3.8.8"
    },
    "colab": {
      "name": "FinalProject-Group-nlp_brain_functions.ipynb",
      "provenance": [],
      "collapsed_sections": []
    }
  },
  "nbformat": 4,
  "nbformat_minor": 5
}